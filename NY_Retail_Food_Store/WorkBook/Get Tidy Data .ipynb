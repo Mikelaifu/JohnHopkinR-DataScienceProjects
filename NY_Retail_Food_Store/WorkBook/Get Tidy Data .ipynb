{
 "cells": [
  {
   "cell_type": "markdown",
   "metadata": {},
   "source": [
    "### Step 1. Split out Location column from \"Json\" format into a seperate dataset the match the main dataset"
   ]
  },
  {
   "cell_type": "markdown",
   "metadata": {},
   "source": [
    "##### Seprate the Location col for parsing"
   ]
  },
  {
   "cell_type": "code",
   "execution_count": 42,
   "metadata": {},
   "outputs": [],
   "source": [
    "library(readr)\n",
    "library(dplyr)\n",
    "library(tidyverse)\n",
    "library(lubridate)\n",
    "library(jsonlite)\n",
    "library(data.table)\n",
    "# install.packages(\"rjson\")\n",
    "library(rjson)\n",
    "library(stringr)\n",
    "library(tidyr)"
   ]
  },
  {
   "cell_type": "code",
   "execution_count": 15,
   "metadata": {
    "scrolled": true
   },
   "outputs": [
    {
     "data": {
      "text/html": [
       "<ol class=list-inline>\n",
       "\t<li>'County'</li>\n",
       "\t<li>'License.Number'</li>\n",
       "\t<li>'Operation.Type'</li>\n",
       "\t<li>'Establishment.Type'</li>\n",
       "\t<li>'Entity.Name'</li>\n",
       "\t<li>'DBA.Name'</li>\n",
       "\t<li>'Street.Number'</li>\n",
       "\t<li>'Street.Name'</li>\n",
       "\t<li>'Address.Line.2'</li>\n",
       "\t<li>'Address.Line.3'</li>\n",
       "\t<li>'City'</li>\n",
       "\t<li>'State'</li>\n",
       "\t<li>'Zip.Code'</li>\n",
       "\t<li>'Square.Footage'</li>\n",
       "\t<li>'Location'</li>\n",
       "</ol>\n"
      ],
      "text/latex": [
       "\\begin{enumerate*}\n",
       "\\item 'County'\n",
       "\\item 'License.Number'\n",
       "\\item 'Operation.Type'\n",
       "\\item 'Establishment.Type'\n",
       "\\item 'Entity.Name'\n",
       "\\item 'DBA.Name'\n",
       "\\item 'Street.Number'\n",
       "\\item 'Street.Name'\n",
       "\\item 'Address.Line.2'\n",
       "\\item 'Address.Line.3'\n",
       "\\item 'City'\n",
       "\\item 'State'\n",
       "\\item 'Zip.Code'\n",
       "\\item 'Square.Footage'\n",
       "\\item 'Location'\n",
       "\\end{enumerate*}\n"
      ],
      "text/markdown": [
       "1. 'County'\n",
       "2. 'License.Number'\n",
       "3. 'Operation.Type'\n",
       "4. 'Establishment.Type'\n",
       "5. 'Entity.Name'\n",
       "6. 'DBA.Name'\n",
       "7. 'Street.Number'\n",
       "8. 'Street.Name'\n",
       "9. 'Address.Line.2'\n",
       "10. 'Address.Line.3'\n",
       "11. 'City'\n",
       "12. 'State'\n",
       "13. 'Zip.Code'\n",
       "14. 'Square.Footage'\n",
       "15. 'Location'\n",
       "\n",
       "\n"
      ],
      "text/plain": [
       " [1] \"County\"             \"License.Number\"     \"Operation.Type\"    \n",
       " [4] \"Establishment.Type\" \"Entity.Name\"        \"DBA.Name\"          \n",
       " [7] \"Street.Number\"      \"Street.Name\"        \"Address.Line.2\"    \n",
       "[10] \"Address.Line.3\"     \"City\"               \"State\"             \n",
       "[13] \"Zip.Code\"           \"Square.Footage\"     \"Location\"          "
      ]
     },
     "metadata": {},
     "output_type": "display_data"
    }
   ],
   "source": [
    "df <- read.csv(\"retail-food-stores.csv\")\n",
    "names(df)"
   ]
  },
  {
   "cell_type": "code",
   "execution_count": 192,
   "metadata": {},
   "outputs": [
    {
     "data": {
      "text/html": [
       "<table>\n",
       "<thead><tr><th></th><th scope=col>LocTxt</th></tr></thead>\n",
       "<tbody>\n",
       "\t<tr><th scope=row>29384</th><td>{\"longitude\": \"-74.119218\", \"needs_recoding\": False, \"human_address\": \"{\"address\":\"2 NEW DORP LN\",\"city\":\"STATEN ISLAND\",\"state\":\"NY\",\"zip\":\"10306\"}\", \"latitude\": \"40.575513\"}       </td></tr>\n",
       "\t<tr><th scope=row>29385</th><td>{\"longitude\": \"-74.124557\", \"needs_recoding\": False, \"human_address\": \"{\"address\":\"1259 CASTLETON AVE\",\"city\":\"STATEN ISLAND\",\"state\":\"NY\",\"zip\":\"10310\"}\", \"latitude\": \"40.633963\"}  </td></tr>\n",
       "\t<tr><th scope=row>29386</th><td>{\"longitude\": \"-74.089189\", \"needs_recoding\": False, \"human_address\": \"{\"address\":\"506 RICHMOND TERRACE\",\"city\":\"STATEN ISLAND\",\"state\":\"NY\",\"zip\":\"10301\"}\", \"latitude\": \"40.646506\"}</td></tr>\n",
       "\t<tr><th scope=row>29387</th><td>{\"longitude\": \"-74.062958\", \"needs_recoding\": False, \"human_address\": \"{\"address\":\"1386 BAY ST\",\"city\":\"STATEN ISLAND\",\"state\":\"NY\",\"zip\":\"10305\"}\", \"latitude\": \"40.6098\"}           </td></tr>\n",
       "\t<tr><th scope=row>29388</th><td>{\"longitude\": \"-74.136856\", \"needs_recoding\": False, \"human_address\": \"{\"address\":\"1440 FOREST AVE\",\"city\":\"STATEN ISLAND\",\"state\":\"NY\",\"zip\":\"10302\"}\", \"latitude\": \"40.624434\"}     </td></tr>\n",
       "\t<tr><th scope=row>29389</th><td>{\"longitude\": \"-74.075886\", \"needs_recoding\": False, \"human_address\": \"{\"address\":\"32 BAY ST\",\"city\":\"STATEN ISLAND\",\"state\":\"NY\",\"zip\":\"10301\"}\", \"latitude\": \"40.641334\"}           </td></tr>\n",
       "</tbody>\n",
       "</table>\n"
      ],
      "text/latex": [
       "\\begin{tabular}{r|l}\n",
       "  & LocTxt\\\\\n",
       "\\hline\n",
       "\t29384 & \\{\"longitude\": \"-74.119218\", \"needs\\_recoding\": False, \"human\\_address\": \"\\{\"address\":\"2 NEW DORP LN\",\"city\":\"STATEN ISLAND\",\"state\":\"NY\",\"zip\":\"10306\"\\}\", \"latitude\": \"40.575513\"\\}       \\\\\n",
       "\t29385 & \\{\"longitude\": \"-74.124557\", \"needs\\_recoding\": False, \"human\\_address\": \"\\{\"address\":\"1259 CASTLETON AVE\",\"city\":\"STATEN ISLAND\",\"state\":\"NY\",\"zip\":\"10310\"\\}\", \"latitude\": \"40.633963\"\\}  \\\\\n",
       "\t29386 & \\{\"longitude\": \"-74.089189\", \"needs\\_recoding\": False, \"human\\_address\": \"\\{\"address\":\"506 RICHMOND TERRACE\",\"city\":\"STATEN ISLAND\",\"state\":\"NY\",\"zip\":\"10301\"\\}\", \"latitude\": \"40.646506\"\\}\\\\\n",
       "\t29387 & \\{\"longitude\": \"-74.062958\", \"needs\\_recoding\": False, \"human\\_address\": \"\\{\"address\":\"1386 BAY ST\",\"city\":\"STATEN ISLAND\",\"state\":\"NY\",\"zip\":\"10305\"\\}\", \"latitude\": \"40.6098\"\\}           \\\\\n",
       "\t29388 & \\{\"longitude\": \"-74.136856\", \"needs\\_recoding\": False, \"human\\_address\": \"\\{\"address\":\"1440 FOREST AVE\",\"city\":\"STATEN ISLAND\",\"state\":\"NY\",\"zip\":\"10302\"\\}\", \"latitude\": \"40.624434\"\\}     \\\\\n",
       "\t29389 & \\{\"longitude\": \"-74.075886\", \"needs\\_recoding\": False, \"human\\_address\": \"\\{\"address\":\"32 BAY ST\",\"city\":\"STATEN ISLAND\",\"state\":\"NY\",\"zip\":\"10301\"\\}\", \"latitude\": \"40.641334\"\\}           \\\\\n",
       "\\end{tabular}\n"
      ],
      "text/markdown": [
       "\n",
       "| <!--/--> | LocTxt | \n",
       "|---|---|---|---|---|---|\n",
       "| 29384 | {\"longitude\": \"-74.119218\", \"needs_recoding\": False, \"human_address\": \"{\"address\":\"2 NEW DORP LN\",\"city\":\"STATEN ISLAND\",\"state\":\"NY\",\"zip\":\"10306\"}\", \"latitude\": \"40.575513\"}        | \n",
       "| 29385 | {\"longitude\": \"-74.124557\", \"needs_recoding\": False, \"human_address\": \"{\"address\":\"1259 CASTLETON AVE\",\"city\":\"STATEN ISLAND\",\"state\":\"NY\",\"zip\":\"10310\"}\", \"latitude\": \"40.633963\"}   | \n",
       "| 29386 | {\"longitude\": \"-74.089189\", \"needs_recoding\": False, \"human_address\": \"{\"address\":\"506 RICHMOND TERRACE\",\"city\":\"STATEN ISLAND\",\"state\":\"NY\",\"zip\":\"10301\"}\", \"latitude\": \"40.646506\"} | \n",
       "| 29387 | {\"longitude\": \"-74.062958\", \"needs_recoding\": False, \"human_address\": \"{\"address\":\"1386 BAY ST\",\"city\":\"STATEN ISLAND\",\"state\":\"NY\",\"zip\":\"10305\"}\", \"latitude\": \"40.6098\"}            | \n",
       "| 29388 | {\"longitude\": \"-74.136856\", \"needs_recoding\": False, \"human_address\": \"{\"address\":\"1440 FOREST AVE\",\"city\":\"STATEN ISLAND\",\"state\":\"NY\",\"zip\":\"10302\"}\", \"latitude\": \"40.624434\"}      | \n",
       "| 29389 | {\"longitude\": \"-74.075886\", \"needs_recoding\": False, \"human_address\": \"{\"address\":\"32 BAY ST\",\"city\":\"STATEN ISLAND\",\"state\":\"NY\",\"zip\":\"10301\"}\", \"latitude\": \"40.641334\"}            | \n",
       "\n",
       "\n"
      ],
      "text/plain": [
       "      LocTxt                                                                                                                                                                                \n",
       "29384 {\"longitude\": \"-74.119218\", \"needs_recoding\": False, \"human_address\": \"{\"address\":\"2 NEW DORP LN\",\"city\":\"STATEN ISLAND\",\"state\":\"NY\",\"zip\":\"10306\"}\", \"latitude\": \"40.575513\"}       \n",
       "29385 {\"longitude\": \"-74.124557\", \"needs_recoding\": False, \"human_address\": \"{\"address\":\"1259 CASTLETON AVE\",\"city\":\"STATEN ISLAND\",\"state\":\"NY\",\"zip\":\"10310\"}\", \"latitude\": \"40.633963\"}  \n",
       "29386 {\"longitude\": \"-74.089189\", \"needs_recoding\": False, \"human_address\": \"{\"address\":\"506 RICHMOND TERRACE\",\"city\":\"STATEN ISLAND\",\"state\":\"NY\",\"zip\":\"10301\"}\", \"latitude\": \"40.646506\"}\n",
       "29387 {\"longitude\": \"-74.062958\", \"needs_recoding\": False, \"human_address\": \"{\"address\":\"1386 BAY ST\",\"city\":\"STATEN ISLAND\",\"state\":\"NY\",\"zip\":\"10305\"}\", \"latitude\": \"40.6098\"}           \n",
       "29388 {\"longitude\": \"-74.136856\", \"needs_recoding\": False, \"human_address\": \"{\"address\":\"1440 FOREST AVE\",\"city\":\"STATEN ISLAND\",\"state\":\"NY\",\"zip\":\"10302\"}\", \"latitude\": \"40.624434\"}     \n",
       "29389 {\"longitude\": \"-74.075886\", \"needs_recoding\": False, \"human_address\": \"{\"address\":\"32 BAY ST\",\"city\":\"STATEN ISLAND\",\"state\":\"NY\",\"zip\":\"10301\"}\", \"latitude\": \"40.641334\"}           "
      ]
     },
     "metadata": {},
     "output_type": "display_data"
    }
   ],
   "source": [
    "LocTxt <- c()\n",
    "Loc <- df$Location\n",
    "for (i in 1: length(Loc)){\n",
    "    LocTxt[i] <- gsub(\"\\\\'\", '\"', toString(Loc[i]))\n",
    "}\n",
    "Location<- as.data.frame(LocTxt, row.names = NULL, colnames = names(\"Location\"))\n",
    "tail(Location)"
   ]
  },
  {
   "cell_type": "markdown",
   "metadata": {},
   "source": [
    "##### Parse the json formed strs from Location column into different list and plot back to the data frame"
   ]
  },
  {
   "cell_type": "code",
   "execution_count": 395,
   "metadata": {},
   "outputs": [],
   "source": [
    "df2 <- function(keyword, Lst){\n",
    "    if (Lst != \"\"){\n",
    "        str <- strsplit(Lst, ':|,')[[1]]\n",
    "        for (i in 1: length(str)){\n",
    "        \n",
    "                if (grepl(keyword, str[i]) == TRUE){ \n",
    "                    value <- gsub('\\\\\"|\\\\\"|\\\\{|\\\\}| ', \"\", str[i+1])\n",
    "                    \n",
    "                    return (value)\n",
    "                } \n",
    "            }\n",
    "        }        \n",
    "    else {\n",
    "        value <- \"N/A\"\n",
    "        return (value)\n",
    "    }           \n",
    "}     \n",
    "\n",
    "\n",
    "split <- sapply(Location[,1], toString)\n",
    "Logi <- lapply(split, df2, keyword = 'longitude')\n",
    "Lati <- lapply(split, df2, keyword = 'latitude')\n",
    "Address <- lapply(split, df2, keyword = '\"address\"')\n",
    "City <- lapply(split, df2, keyword = 'city')\n",
    "State <- lapply(split, df2, keyword = 'state')\n",
    "Zip <- lapply(split, df2, keyword = 'zip')\n",
    "\n",
    "# df2('longitude', split )\n",
    "# sapply(split,  df2('longitude', split ))"
   ]
  },
  {
   "cell_type": "markdown",
   "metadata": {},
   "source": [
    "##### merged the lists back to the main dataset as data frame "
   ]
  },
  {
   "cell_type": "code",
   "execution_count": 450,
   "metadata": {
    "scrolled": true
   },
   "outputs": [],
   "source": [
    "newDf <- mutate(df, address = unlist(Address), city = unlist(City), state= unlist(State),  zip= unlist(Zip) ,longitute = unlist(lapply(Logi, toString))\n",
    ", latitude = unlist(lapply(Lati, toString)))\n",
    "write.table(newDf, \"New_retail-food-stores.csv\", sep = \",\")\n",
    "# ndf <- read.csv(\"New_retail-food-stores.csv\", sep = \",\")"
   ]
  },
  {
   "cell_type": "markdown",
   "metadata": {},
   "source": [
    "###### data further cleaning \n",
    "\n",
    "* subset nessceary columns\n",
    "* uniform column names\n",
    "* parse Space\n",
    "* parse Address columns in the format of \"adree# StreenName\"\n",
    "* chekc out and uniform null/na values"
   ]
  },
  {
   "cell_type": "code",
   "execution_count": 84,
   "metadata": {},
   "outputs": [
    {
     "data": {
      "text/html": [
       "<table>\n",
       "<thead><tr><th scope=col>License.Number</th><th scope=col>Operation.Type</th><th scope=col>Establishment.Type</th><th scope=col>Entity.Name</th><th scope=col>DBA.Name</th><th scope=col>Square.Footage</th><th scope=col>Address</th><th scope=col>Street.Number</th><th scope=col>State</th><th scope=col>ZipCode</th><th scope=col>County</th><th scope=col>Longitude</th><th scope=col>Latitude</th></tr></thead>\n",
       "<tbody>\n",
       "\t<tr><td>720644                    </td><td>Store                     </td><td>JAC                       </td><td>SPEEDWAY LLC              </td><td>SPEEDWAY #07708           </td><td>2500                      </td><td>601 SARATOGA ST           </td><td>601                       </td><td>NY                        </td><td>12047                     </td><td>Albany                    </td><td>-73.700539                </td><td>42.754424                 </td></tr>\n",
       "\t<tr><td>734310                    </td><td>Store                     </td><td>A                         </td><td>GREEN ISLAND MART INC     </td><td>GREEN ISLAND MART         </td><td>1800                      </td><td>165 PAINE STREET          </td><td>165                       </td><td>NY                        </td><td>12183                     </td><td>Albany                    </td><td>-73.691984                </td><td>42.746003                 </td></tr>\n",
       "\t<tr><td>720557                    </td><td>Store                     </td><td>JAC                       </td><td>SAEED SADIQ, SAIKA NOREEN </td><td>19 STREET QUICK STOP      </td><td>1200                      </td><td>315 19TH STREET           </td><td>315                       </td><td>NY                        </td><td>12189                     </td><td>Albany                    </td><td>-73.703443                </td><td>42.73063                  </td></tr>\n",
       "\t<tr><td>724747                    </td><td>Store                     </td><td>JAC                       </td><td>SUNOCO RETAIL LLC         </td><td>SUNOCO #2706              </td><td>3000                      </td><td>1465 WASHINGTON AVE       </td><td>1465                      </td><td>NY                        </td><td>12203                     </td><td>Albany                    </td><td>-73.821889                </td><td>42.690493                 </td></tr>\n",
       "\t<tr><td>730927                    </td><td>Store                     </td><td>JAC                       </td><td>NAPREDAK LLC              </td><td>KNOX STORE                </td><td>700                       </td><td>2160 BERNE ALTAMONT RD    </td><td>2160                      </td><td>NY                        </td><td>12107                     </td><td>Albany                    </td><td>                          </td><td>                          </td></tr>\n",
       "\t<tr><td>720578                    </td><td>Store                     </td><td>A                         </td><td>ADIRONDACK S AND S LLC    </td><td>NEWSSTAND                 </td><td>600                       </td><td>1 CROSSGATES MALL RD D 105</td><td>1                         </td><td>NY                        </td><td>12203                     </td><td>Albany                    </td><td>-73.850605                </td><td>42.687038                 </td></tr>\n",
       "</tbody>\n",
       "</table>\n"
      ],
      "text/latex": [
       "\\begin{tabular}{r|lllllllllllll}\n",
       " License.Number & Operation.Type & Establishment.Type & Entity.Name & DBA.Name & Square.Footage & Address & Street.Number & State & ZipCode & County & Longitude & Latitude\\\\\n",
       "\\hline\n",
       "\t 720644                     & Store                      & JAC                        & SPEEDWAY LLC               & SPEEDWAY \\#07708          & 2500                       & 601 SARATOGA ST            & 601                        & NY                         & 12047                      & Albany                     & -73.700539                 & 42.754424                 \\\\\n",
       "\t 734310                     & Store                      & A                          & GREEN ISLAND MART INC      & GREEN ISLAND MART          & 1800                       & 165 PAINE STREET           & 165                        & NY                         & 12183                      & Albany                     & -73.691984                 & 42.746003                 \\\\\n",
       "\t 720557                     & Store                      & JAC                        & SAEED SADIQ, SAIKA NOREEN  & 19 STREET QUICK STOP       & 1200                       & 315 19TH STREET            & 315                        & NY                         & 12189                      & Albany                     & -73.703443                 & 42.73063                  \\\\\n",
       "\t 724747                     & Store                      & JAC                        & SUNOCO RETAIL LLC          & SUNOCO \\#2706             & 3000                       & 1465 WASHINGTON AVE        & 1465                       & NY                         & 12203                      & Albany                     & -73.821889                 & 42.690493                 \\\\\n",
       "\t 730927                     & Store                      & JAC                        & NAPREDAK LLC               & KNOX STORE                 & 700                        & 2160 BERNE ALTAMONT RD     & 2160                       & NY                         & 12107                      & Albany                     &                            &                           \\\\\n",
       "\t 720578                     & Store                      & A                          & ADIRONDACK S AND S LLC     & NEWSSTAND                  & 600                        & 1 CROSSGATES MALL RD D 105 & 1                          & NY                         & 12203                      & Albany                     & -73.850605                 & 42.687038                 \\\\\n",
       "\\end{tabular}\n"
      ],
      "text/markdown": [
       "\n",
       "License.Number | Operation.Type | Establishment.Type | Entity.Name | DBA.Name | Square.Footage | Address | Street.Number | State | ZipCode | County | Longitude | Latitude | \n",
       "|---|---|---|---|---|---|\n",
       "| 720644                     | Store                      | JAC                        | SPEEDWAY LLC               | SPEEDWAY #07708            | 2500                       | 601 SARATOGA ST            | 601                        | NY                         | 12047                      | Albany                     | -73.700539                 | 42.754424                  | \n",
       "| 734310                     | Store                      | A                          | GREEN ISLAND MART INC      | GREEN ISLAND MART          | 1800                       | 165 PAINE STREET           | 165                        | NY                         | 12183                      | Albany                     | -73.691984                 | 42.746003                  | \n",
       "| 720557                     | Store                      | JAC                        | SAEED SADIQ, SAIKA NOREEN  | 19 STREET QUICK STOP       | 1200                       | 315 19TH STREET            | 315                        | NY                         | 12189                      | Albany                     | -73.703443                 | 42.73063                   | \n",
       "| 724747                     | Store                      | JAC                        | SUNOCO RETAIL LLC          | SUNOCO #2706               | 3000                       | 1465 WASHINGTON AVE        | 1465                       | NY                         | 12203                      | Albany                     | -73.821889                 | 42.690493                  | \n",
       "| 730927                     | Store                      | JAC                        | NAPREDAK LLC               | KNOX STORE                 | 700                        | 2160 BERNE ALTAMONT RD     | 2160                       | NY                         | 12107                      | Albany                     |                            |                            | \n",
       "| 720578                     | Store                      | A                          | ADIRONDACK S AND S LLC     | NEWSSTAND                  | 600                        | 1 CROSSGATES MALL RD D 105 | 1                          | NY                         | 12203                      | Albany                     | -73.850605                 | 42.687038                  | \n",
       "\n",
       "\n"
      ],
      "text/plain": [
       "  License.Number Operation.Type Establishment.Type Entity.Name              \n",
       "1 720644         Store          JAC                SPEEDWAY LLC             \n",
       "2 734310         Store          A                  GREEN ISLAND MART INC    \n",
       "3 720557         Store          JAC                SAEED SADIQ, SAIKA NOREEN\n",
       "4 724747         Store          JAC                SUNOCO RETAIL LLC        \n",
       "5 730927         Store          JAC                NAPREDAK LLC             \n",
       "6 720578         Store          A                  ADIRONDACK S AND S LLC   \n",
       "  DBA.Name             Square.Footage Address                    Street.Number\n",
       "1 SPEEDWAY #07708      2500           601 SARATOGA ST            601          \n",
       "2 GREEN ISLAND MART    1800           165 PAINE STREET           165          \n",
       "3 19 STREET QUICK STOP 1200           315 19TH STREET            315          \n",
       "4 SUNOCO #2706         3000           1465 WASHINGTON AVE        1465         \n",
       "5 KNOX STORE           700            2160 BERNE ALTAMONT RD     2160         \n",
       "6 NEWSSTAND            600            1 CROSSGATES MALL RD D 105 1            \n",
       "  State ZipCode County Longitude  Latitude \n",
       "1 NY    12047   Albany -73.700539 42.754424\n",
       "2 NY    12183   Albany -73.691984 42.746003\n",
       "3 NY    12189   Albany -73.703443 42.73063 \n",
       "4 NY    12203   Albany -73.821889 42.690493\n",
       "5 NY    12107   Albany                     \n",
       "6 NY    12203   Albany -73.850605 42.687038"
      ]
     },
     "metadata": {},
     "output_type": "display_data"
    }
   ],
   "source": [
    "clean <- function(fname) {\n",
    "    d <- read.csv(\"New_retail-food-stores.csv\")\n",
    "\n",
    "    ## subset out the col no needed \n",
    "    df <- d[, c(-9,-10,-11,-12,-13, -15, -16)]\n",
    "    ## rename all the col\n",
    "    df <- rename(df, City =city, State = state, ZipCode = zip, Longitude = longitute, Latitude = latitude)\n",
    "    ## parse all spaces on left and right of strings\n",
    "    for (i in names(df)){\n",
    "        df[, c(i)] <- sapply(df[, c(i)], trimws, which =c(\"both\") )\n",
    "    }\n",
    "    df$Address <-  paste(df$Street.Number, df$Street.Name, sep = \" \")\n",
    "    df <- df[,c(2,3,4,5,6,9, 15,7,8,10,11,12,1, 13,14)]\n",
    "    df <- df[, c(-9,-10)]\n",
    "    ## to parse number out of a string :\n",
    "    # regexp <- \"[[:digit:]]+\"\n",
    "    # regexb <- \"[[:alpha:]]+\"\n",
    "    # df$AddressNumber <- lapply(df$Address, str_extract, pattern = regexp) \n",
    "    # df$AddressStreet <- lapply(df$Address, str_extract, pattern = regexb)\n",
    "    # df <- df[, c(-8)]\n",
    "    # df <- transform(df,  Address = paste(df$AddressNumber, df$AddressStreet, sep = \" \"))\n",
    "\n",
    "    return(df)\n",
    "}\n",
    "df <- clean(\"New_retail-food-stores.csv\")\n",
    "head(df)"
   ]
  },
  {
   "cell_type": "code",
   "execution_count": 52,
   "metadata": {},
   "outputs": [
    {
     "data": {
      "text/html": [
       "<table>\n",
       "<thead><tr><th></th><th scope=col>County</th><th scope=col>License.Number</th><th scope=col>Operation.Type</th><th scope=col>Establishment.Type</th><th scope=col>Entity.Name</th><th scope=col>DBA.Name</th><th scope=col>Street.Number</th><th scope=col>Street.Name</th><th scope=col>Square.Footage</th><th scope=col>City</th><th scope=col>State</th><th scope=col>ZipCode</th><th scope=col>Longitude</th><th scope=col>Latitude</th></tr></thead>\n",
       "<tbody>\n",
       "\t<tr><th scope=row>113</th><td>Albany                      </td><td>727648                      </td><td>Store                       </td><td>A                           </td><td>DONIETERESA                 </td><td>DMVNEWS                     </td><td>                            </td><td>NYSDMVCORE3SOUTHSWANSTREET# </td><td>300                         </td><td>ALBANY                      </td><td>NY                          </td><td>N/A                         </td><td>N/A                         </td><td>N/A                         </td></tr>\n",
       "\t<tr><th scope=row>218</th><td>Albany                                                       </td><td>10514                                                        </td><td>Store                                                        </td><td><span style=white-space:pre-wrap>A   </span>                 </td><td>LINDT&amp;SPRUNGLIUSAINC                                     </td><td><span style=white-space:pre-wrap>LINDTCHOCOLATE333    </span></td><td>                                                             </td><td>ONECROSSGATESMALLRDSUITEP-21                                 </td><td>1500                                                         </td><td>ALBANY                                                       </td><td>NY                                                           </td><td>N/A                                                          </td><td>N/A                                                          </td><td>N/A                                                          </td></tr>\n",
       "\t<tr><th scope=row>229</th><td>Albany                      </td><td>15821                       </td><td>Store                       </td><td>JACX                        </td><td>TESTESTABLISHMENT           </td><td>TESTRECORD                  </td><td>                            </td><td>TEST                        </td><td>12345                       </td><td>TEST                        </td><td>NY                          </td><td>N/A                         </td><td>N/A                         </td><td>N/A                         </td></tr>\n",
       "\t<tr><th scope=row>232</th><td>Albany                      </td><td>10618                       </td><td>Store                       </td><td>A                           </td><td>SAEEDKHALID                 </td><td>TOWERNEWS                   </td><td>                            </td><td>EMPIRESTATEPLAZACORNING     </td><td>550                         </td><td>ALBANY                      </td><td>NY                          </td><td>N/A                         </td><td>N/A                         </td><td>N/A                         </td></tr>\n",
       "\t<tr><th scope=row>276</th><td>Albany                      </td><td>10448                       </td><td>Store                       </td><td>A                           </td><td>CVSALBANYLLC                </td><td>CVSPHARMACY05037            </td><td>                            </td><td>RT9WFAITHPLAZA              </td><td>4500                        </td><td>RAVENA                      </td><td>NY                          </td><td>N/A                         </td><td>N/A                         </td><td>N/A                         </td></tr>\n",
       "\t<tr><th scope=row>290</th><td>Albany                                                                  </td><td>10723                                                                   </td><td>Store                                                                   </td><td><span style=white-space:pre-wrap>A   </span>                            </td><td><span style=white-space:pre-wrap>AGOSTINIANGIE       </span>            </td><td>ANGELSLASTINGIMPRESSI                                                   </td><td>                                                                        </td><td><span style=white-space:pre-wrap>AGY3&amp;4EMPIRESTATEPLAZA      </span></td><td><span style=white-space:pre-wrap>400  </span>                           </td><td>ALBANY                                                                  </td><td>NY                                                                      </td><td>N/A                                                                     </td><td>N/A                                                                     </td><td>N/A                                                                     </td></tr>\n",
       "</tbody>\n",
       "</table>\n"
      ],
      "text/latex": [
       "\\begin{tabular}{r|llllllllllllll}\n",
       "  & County & License.Number & Operation.Type & Establishment.Type & Entity.Name & DBA.Name & Street.Number & Street.Name & Square.Footage & City & State & ZipCode & Longitude & Latitude\\\\\n",
       "\\hline\n",
       "\t113 & Albany                         & 727648                         & Store                          & A                              & DONIETERESA                    & DMVNEWS                        &                                & NYSDMVCORE3SOUTHSWANSTREET\\#  & 300                            & ALBANY                         & NY                             & N/A                            & N/A                            & N/A                           \\\\\n",
       "\t218 & Albany                       & 10514                        & Store                        & A                            & LINDT\\&SPRUNGLIUSAINC       & LINDTCHOCOLATE333            &                              & ONECROSSGATESMALLRDSUITEP-21 & 1500                         & ALBANY                       & NY                           & N/A                          & N/A                          & N/A                         \\\\\n",
       "\t229 & Albany                       & 15821                        & Store                        & JACX                         & TESTESTABLISHMENT            & TESTRECORD                   &                              & TEST                         & 12345                        & TEST                         & NY                           & N/A                          & N/A                          & N/A                         \\\\\n",
       "\t232 & Albany                       & 10618                        & Store                        & A                            & SAEEDKHALID                  & TOWERNEWS                    &                              & EMPIRESTATEPLAZACORNING      & 550                          & ALBANY                       & NY                           & N/A                          & N/A                          & N/A                         \\\\\n",
       "\t276 & Albany                       & 10448                        & Store                        & A                            & CVSALBANYLLC                 & CVSPHARMACY05037             &                              & RT9WFAITHPLAZA               & 4500                         & RAVENA                       & NY                           & N/A                          & N/A                          & N/A                         \\\\\n",
       "\t290 & Albany                         & 10723                          & Store                          & A                              & AGOSTINIANGIE                  & ANGELSLASTINGIMPRESSI          &                                & AGY3\\&4EMPIRESTATEPLAZA       & 400                            & ALBANY                         & NY                             & N/A                            & N/A                            & N/A                           \\\\\n",
       "\\end{tabular}\n"
      ],
      "text/markdown": [
       "\n",
       "| <!--/--> | County | License.Number | Operation.Type | Establishment.Type | Entity.Name | DBA.Name | Street.Number | Street.Name | Square.Footage | City | State | ZipCode | Longitude | Latitude | \n",
       "|---|---|---|---|---|---|\n",
       "| 113 | Albany                       | 727648                       | Store                        | A                            | DONIETERESA                  | DMVNEWS                      |                              | NYSDMVCORE3SOUTHSWANSTREET#  | 300                          | ALBANY                       | NY                           | N/A                          | N/A                          | N/A                          | \n",
       "| 218 | Albany                       | 10514                        | Store                        | A                            | LINDT&SPRUNGLIUSAINC         | LINDTCHOCOLATE333            |                              | ONECROSSGATESMALLRDSUITEP-21 | 1500                         | ALBANY                       | NY                           | N/A                          | N/A                          | N/A                          | \n",
       "| 229 | Albany                       | 15821                        | Store                        | JACX                         | TESTESTABLISHMENT            | TESTRECORD                   |                              | TEST                         | 12345                        | TEST                         | NY                           | N/A                          | N/A                          | N/A                          | \n",
       "| 232 | Albany                       | 10618                        | Store                        | A                            | SAEEDKHALID                  | TOWERNEWS                    |                              | EMPIRESTATEPLAZACORNING      | 550                          | ALBANY                       | NY                           | N/A                          | N/A                          | N/A                          | \n",
       "| 276 | Albany                       | 10448                        | Store                        | A                            | CVSALBANYLLC                 | CVSPHARMACY05037             |                              | RT9WFAITHPLAZA               | 4500                         | RAVENA                       | NY                           | N/A                          | N/A                          | N/A                          | \n",
       "| 290 | Albany                       | 10723                        | Store                        | A                            | AGOSTINIANGIE                | ANGELSLASTINGIMPRESSI        |                              | AGY3&4EMPIRESTATEPLAZA       | 400                          | ALBANY                       | NY                           | N/A                          | N/A                          | N/A                          | \n",
       "\n",
       "\n"
      ],
      "text/plain": [
       "    County License.Number Operation.Type Establishment.Type\n",
       "113 Albany 727648         Store          A                 \n",
       "218 Albany 10514          Store          A                 \n",
       "229 Albany 15821          Store          JACX              \n",
       "232 Albany 10618          Store          A                 \n",
       "276 Albany 10448          Store          A                 \n",
       "290 Albany 10723          Store          A                 \n",
       "    Entity.Name          DBA.Name              Street.Number\n",
       "113 DONIETERESA          DMVNEWS                            \n",
       "218 LINDT&SPRUNGLIUSAINC LINDTCHOCOLATE333                  \n",
       "229 TESTESTABLISHMENT    TESTRECORD                         \n",
       "232 SAEEDKHALID          TOWERNEWS                          \n",
       "276 CVSALBANYLLC         CVSPHARMACY05037                   \n",
       "290 AGOSTINIANGIE        ANGELSLASTINGIMPRESSI              \n",
       "    Street.Name                  Square.Footage City   State ZipCode Longitude\n",
       "113 NYSDMVCORE3SOUTHSWANSTREET#  300            ALBANY NY    N/A     N/A      \n",
       "218 ONECROSSGATESMALLRDSUITEP-21 1500           ALBANY NY    N/A     N/A      \n",
       "229 TEST                         12345          TEST   NY    N/A     N/A      \n",
       "232 EMPIRESTATEPLAZACORNING      550            ALBANY NY    N/A     N/A      \n",
       "276 RT9WFAITHPLAZA               4500           RAVENA NY    N/A     N/A      \n",
       "290 AGY3&4EMPIRESTATEPLAZA       400            ALBANY NY    N/A     N/A      \n",
       "    Latitude\n",
       "113 N/A     \n",
       "218 N/A     \n",
       "229 N/A     \n",
       "232 N/A     \n",
       "276 N/A     \n",
       "290 N/A     "
      ]
     },
     "metadata": {},
     "output_type": "display_data"
    }
   ],
   "source": [
    "head(df[which(df$Longitude == \"N/A\"),])"
   ]
  },
  {
   "cell_type": "code",
   "execution_count": 85,
   "metadata": {},
   "outputs": [],
   "source": [
    "write.table(df, \"retail-food-stores_tidyData.csv\", sep = \",\")"
   ]
  },
  {
   "cell_type": "code",
   "execution_count": null,
   "metadata": {},
   "outputs": [],
   "source": []
  },
  {
   "cell_type": "code",
   "execution_count": null,
   "metadata": {},
   "outputs": [],
   "source": []
  },
  {
   "cell_type": "code",
   "execution_count": null,
   "metadata": {},
   "outputs": [],
   "source": []
  },
  {
   "cell_type": "code",
   "execution_count": null,
   "metadata": {},
   "outputs": [],
   "source": []
  },
  {
   "cell_type": "code",
   "execution_count": null,
   "metadata": {},
   "outputs": [],
   "source": []
  },
  {
   "cell_type": "code",
   "execution_count": null,
   "metadata": {},
   "outputs": [],
   "source": []
  }
 ],
 "metadata": {
  "kernelspec": {
   "display_name": "R",
   "language": "R",
   "name": "ir"
  },
  "language_info": {
   "codemirror_mode": "r",
   "file_extension": ".r",
   "mimetype": "text/x-r-source",
   "name": "R",
   "pygments_lexer": "r",
   "version": "3.4.1"
  }
 },
 "nbformat": 4,
 "nbformat_minor": 2
}
