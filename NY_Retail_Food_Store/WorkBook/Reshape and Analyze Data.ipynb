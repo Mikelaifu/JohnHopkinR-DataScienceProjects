{
 "cells": [
  {
   "cell_type": "code",
   "execution_count": 10,
   "metadata": {},
   "outputs": [],
   "source": [
    "library(readr)\n",
    "library(dplyr)\n",
    "library(tidyverse)\n",
    "library(lubridate)\n",
    "library(jsonlite)\n",
    "library(data.table)\n",
    "# install.packages(\"rjson\")\n",
    "library(rjson)\n",
    "library(stringr)"
   ]
  },
  {
   "cell_type": "code",
   "execution_count": 133,
   "metadata": {},
   "outputs": [
    {
     "data": {
      "text/html": [
       "<ol class=list-inline>\n",
       "\t<li>'License.Number'</li>\n",
       "\t<li>'Operation.Type'</li>\n",
       "\t<li>'Establishment.Type'</li>\n",
       "\t<li>'Entity.Name'</li>\n",
       "\t<li>'DBA.Name'</li>\n",
       "\t<li>'Square.Footage'</li>\n",
       "\t<li>'Address'</li>\n",
       "\t<li>'Street.Number'</li>\n",
       "\t<li>'State'</li>\n",
       "\t<li>'ZipCode'</li>\n",
       "\t<li>'County'</li>\n",
       "\t<li>'Longitude'</li>\n",
       "\t<li>'Latitude'</li>\n",
       "</ol>\n"
      ],
      "text/latex": [
       "\\begin{enumerate*}\n",
       "\\item 'License.Number'\n",
       "\\item 'Operation.Type'\n",
       "\\item 'Establishment.Type'\n",
       "\\item 'Entity.Name'\n",
       "\\item 'DBA.Name'\n",
       "\\item 'Square.Footage'\n",
       "\\item 'Address'\n",
       "\\item 'Street.Number'\n",
       "\\item 'State'\n",
       "\\item 'ZipCode'\n",
       "\\item 'County'\n",
       "\\item 'Longitude'\n",
       "\\item 'Latitude'\n",
       "\\end{enumerate*}\n"
      ],
      "text/markdown": [
       "1. 'License.Number'\n",
       "2. 'Operation.Type'\n",
       "3. 'Establishment.Type'\n",
       "4. 'Entity.Name'\n",
       "5. 'DBA.Name'\n",
       "6. 'Square.Footage'\n",
       "7. 'Address'\n",
       "8. 'Street.Number'\n",
       "9. 'State'\n",
       "10. 'ZipCode'\n",
       "11. 'County'\n",
       "12. 'Longitude'\n",
       "13. 'Latitude'\n",
       "\n",
       "\n"
      ],
      "text/plain": [
       " [1] \"License.Number\"     \"Operation.Type\"     \"Establishment.Type\"\n",
       " [4] \"Entity.Name\"        \"DBA.Name\"           \"Square.Footage\"    \n",
       " [7] \"Address\"            \"Street.Number\"      \"State\"             \n",
       "[10] \"ZipCode\"            \"County\"             \"Longitude\"         \n",
       "[13] \"Latitude\"          "
      ]
     },
     "metadata": {},
     "output_type": "display_data"
    }
   ],
   "source": [
    "df <- read.csv(\"retail-food-stores_tidyData.csv\", sep= \",\")\n",
    "names(df)\n"
   ]
  },
  {
   "cell_type": "code",
   "execution_count": 61,
   "metadata": {},
   "outputs": [],
   "source": [
    "dfMelt <- melt(df, id =c(\"License.Number\", \"Establishment.Type\", \"Address\", \"Street.Number\", \n",
    "                         \"State\", \"ZipCode\", \"County\", \"Longitude\", \"Latitude\"), measure.vars = c(\"Square.Footage\" ))\n"
   ]
  },
  {
   "cell_type": "markdown",
   "metadata": {},
   "source": [
    "#### which are establishment types of busienss for all the business share (top 10)"
   ]
  },
  {
   "cell_type": "code",
   "execution_count": 127,
   "metadata": {},
   "outputs": [],
   "source": [
    "Ltr <- LETTERS[c(-24, -25)]\n",
    "store <- c()\n",
    "for (i in 1:  length(Ltr)){\n",
    "    lgn <- lapply(dfData$Establishment, grep, pattern = Ltr[i])\n",
    "    frm <- as.data.frame(unlist(lgn),recursive = FALSE, use.names = FALSE) \n",
    "    if(nrow(frm) != 0){\n",
    "       store[i] <- length(frm[frm == 1,])\n",
    "    }\n",
    "    else{\n",
    "         store[i] <- 0\n",
    "    }\n",
    "}\n",
    "OCCUR <- data.frame(Establishment.Code = as.vector(Ltr), Number.Occurrences = store)\n",
    "\n",
    "OccurTop10 <- OCCUR[order(OCCUR$Number.Occurrences, decreasing = TRUE),c(1,2)][1:10,]"
   ]
  },
  {
   "cell_type": "code",
   "execution_count": null,
   "metadata": {},
   "outputs": [],
   "source": [
    "A(3)– Store 28-A M – Salvage Dealer 17-B\n",
    "B – Bakery 20-C N – Wholesale Produce Packer\n",
    "C – Food Manufacturer 20-C O – Produce Grower/Packer/Broker, Storage\n",
    "D – Food Warehouse 28-D P – C.A. Room\n",
    "E – Beverage Plant 20-C Q – Feed Mill/Medicated 8\n",
    "F – Feed Mill/Non-Medicated 8 R – Pet Food Manufacturer 8\n",
    "G - Processing Plant 20 S – Feed Warehouse and/or Distributor 8\n",
    "H - Wholesale Manufacturer 20-C T – Disposal Plant 5-C\n",
    "I - Refrigerated Warehouse 19 U - Disposal Plant/Transportation Service 5-C\n",
    "J – Multiple Operations V – Slaughterhouse 5-A\n",
    "K - Vehicle W – Farm Winery-Exempt 20-C, for OCR Use\n",
    "L - Produce Refrigerated Warehouse 19 Z - Farm Product Use Only"
   ]
  },
  {
   "cell_type": "code",
   "execution_count": 131,
   "metadata": {},
   "outputs": [
    {
     "data": {
      "text/html": [
       "<table>\n",
       "<thead><tr><th scope=col>Establishment.Code</th><th scope=col>Number.Occurrences</th><th scope=col>EstCode_Names</th></tr></thead>\n",
       "<tbody>\n",
       "\t<tr><td>A                           </td><td>29389                       </td><td>Store                       </td></tr>\n",
       "\t<tr><td>J                           </td><td>22553                       </td><td>Multiple Operations         </td></tr>\n",
       "\t<tr><td>C                           </td><td>22292                       </td><td>Food Manufacturer           </td></tr>\n",
       "\t<tr><td>B                           </td><td> 1651                       </td><td>Bakery                      </td></tr>\n",
       "\t<tr><td>H                           </td><td>  415                       </td><td>Wholesale Manufacturer      </td></tr>\n",
       "\t<tr><td>K                           </td><td>  334                       </td><td>Vehicle                     </td></tr>\n",
       "\t<tr><td>D                           </td><td>  306                       </td><td>Food Warehouse              </td></tr>\n",
       "\t<tr><td>W                           </td><td>   47                       </td><td>Farm Winery-Exempt          </td></tr>\n",
       "\t<tr><td>O                           </td><td>   26                       </td><td>Produce Grower/Packer/Broker</td></tr>\n",
       "\t<tr><td>E                           </td><td>   24                       </td><td>Beverage Plant              </td></tr>\n",
       "</tbody>\n",
       "</table>\n"
      ],
      "text/latex": [
       "\\begin{tabular}{r|lll}\n",
       " Establishment.Code & Number.Occurrences & EstCode\\_Names\\\\\n",
       "\\hline\n",
       "\t A                            & 29389                        & Store                       \\\\\n",
       "\t J                            & 22553                        & Multiple Operations         \\\\\n",
       "\t C                            & 22292                        & Food Manufacturer           \\\\\n",
       "\t B                            &  1651                        & Bakery                      \\\\\n",
       "\t H                            &   415                        & Wholesale Manufacturer      \\\\\n",
       "\t K                            &   334                        & Vehicle                     \\\\\n",
       "\t D                            &   306                        & Food Warehouse              \\\\\n",
       "\t W                            &    47                        & Farm Winery-Exempt          \\\\\n",
       "\t O                            &    26                        & Produce Grower/Packer/Broker\\\\\n",
       "\t E                            &    24                        & Beverage Plant              \\\\\n",
       "\\end{tabular}\n"
      ],
      "text/markdown": [
       "\n",
       "Establishment.Code | Number.Occurrences | EstCode_Names | \n",
       "|---|---|---|---|---|---|---|---|---|---|\n",
       "| A                            | 29389                        | Store                        | \n",
       "| J                            | 22553                        | Multiple Operations          | \n",
       "| C                            | 22292                        | Food Manufacturer            | \n",
       "| B                            |  1651                        | Bakery                       | \n",
       "| H                            |   415                        | Wholesale Manufacturer       | \n",
       "| K                            |   334                        | Vehicle                      | \n",
       "| D                            |   306                        | Food Warehouse               | \n",
       "| W                            |    47                        | Farm Winery-Exempt           | \n",
       "| O                            |    26                        | Produce Grower/Packer/Broker | \n",
       "| E                            |    24                        | Beverage Plant               | \n",
       "\n",
       "\n"
      ],
      "text/plain": [
       "   Establishment.Code Number.Occurrences EstCode_Names               \n",
       "1  A                  29389              Store                       \n",
       "2  J                  22553              Multiple Operations         \n",
       "3  C                  22292              Food Manufacturer           \n",
       "4  B                   1651              Bakery                      \n",
       "5  H                    415              Wholesale Manufacturer      \n",
       "6  K                    334              Vehicle                     \n",
       "7  D                    306              Food Warehouse              \n",
       "8  W                     47              Farm Winery-Exempt          \n",
       "9  O                     26              Produce Grower/Packer/Broker\n",
       "10 E                     24              Beverage Plant              "
      ]
     },
     "metadata": {},
     "output_type": "display_data"
    }
   ],
   "source": [
    "Code <- mutate(OccurTop10, EstCode_Names = c(\"Store\", \"Multiple Operations\", \"Food Manufacturer\", \"Bakery\", \n",
    "\"Wholesale Manufacturer\", \"Vehicle\", \"Food Warehouse\", \"Farm Winery-Exempt\", \"Produce Grower/Packer/Broker\", \"Beverage Plant\" ))\n",
    "Code"
   ]
  },
  {
   "cell_type": "markdown",
   "metadata": {},
   "source": [
    "#### what is the most common Establishment.Type for retail buisness in NY area (Top 10)"
   ]
  },
  {
   "cell_type": "code",
   "execution_count": 125,
   "metadata": {
    "scrolled": true
   },
   "outputs": [
    {
     "data": {
      "text/html": [
       "<table>\n",
       "<thead><tr><th scope=col>Establishment.Type</th><th scope=col>count</th></tr></thead>\n",
       "<tbody>\n",
       "\t<tr><td>JAC  </td><td>20213</td></tr>\n",
       "\t<tr><td>A    </td><td> 6836</td></tr>\n",
       "\t<tr><td>JABC </td><td> 1343</td></tr>\n",
       "\t<tr><td>JACH </td><td>  150</td></tr>\n",
       "\t<tr><td>JACD </td><td>  114</td></tr>\n",
       "\t<tr><td>JABCH</td><td>  107</td></tr>\n",
       "\t<tr><td>JACK </td><td>   89</td></tr>\n",
       "\t<tr><td>JACDK</td><td>   53</td></tr>\n",
       "\t<tr><td>JAD  </td><td>   45</td></tr>\n",
       "\t<tr><td>JABH </td><td>   43</td></tr>\n",
       "</tbody>\n",
       "</table>\n"
      ],
      "text/latex": [
       "\\begin{tabular}{r|ll}\n",
       " Establishment.Type & count\\\\\n",
       "\\hline\n",
       "\t JAC   & 20213\\\\\n",
       "\t A     &  6836\\\\\n",
       "\t JABC  &  1343\\\\\n",
       "\t JACH  &   150\\\\\n",
       "\t JACD  &   114\\\\\n",
       "\t JABCH &   107\\\\\n",
       "\t JACK  &    89\\\\\n",
       "\t JACDK &    53\\\\\n",
       "\t JAD   &    45\\\\\n",
       "\t JABH  &    43\\\\\n",
       "\\end{tabular}\n"
      ],
      "text/markdown": [
       "\n",
       "Establishment.Type | count | \n",
       "|---|---|---|---|---|---|---|---|---|---|\n",
       "| JAC   | 20213 | \n",
       "| A     |  6836 | \n",
       "| JABC  |  1343 | \n",
       "| JACH  |   150 | \n",
       "| JACD  |   114 | \n",
       "| JABCH |   107 | \n",
       "| JACK  |    89 | \n",
       "| JACDK |    53 | \n",
       "| JAD   |    45 | \n",
       "| JABH  |    43 | \n",
       "\n",
       "\n"
      ],
      "text/plain": [
       "   Establishment.Type count\n",
       "1  JAC                20213\n",
       "2  A                   6836\n",
       "3  JABC                1343\n",
       "4  JACH                 150\n",
       "5  JACD                 114\n",
       "6  JABCH                107\n",
       "7  JACK                  89\n",
       "8  JACDK                 53\n",
       "9  JAD                   45\n",
       "10 JABH                  43"
      ]
     },
     "metadata": {},
     "output_type": "display_data"
    }
   ],
   "source": [
    "group <- group_by(df, Establishment.Type) \n",
    "counts <- summarize(group, count = n())\n",
    "\n",
    "\n",
    "counts[order(counts$count, decreasing = TRUE),c(1,2)][1:10,]"
   ]
  },
  {
   "cell_type": "code",
   "execution_count": null,
   "metadata": {},
   "outputs": [],
   "source": [
    "## convert dataframe into vextor\n",
    "as.vector(unlist(counts[,1]))"
   ]
  },
  {
   "cell_type": "markdown",
   "metadata": {},
   "source": [
    "#### all establish type and its accorded avg footsqaure"
   ]
  },
  {
   "cell_type": "code",
   "execution_count": 132,
   "metadata": {},
   "outputs": [
    {
     "data": {
      "text/html": [
       "<table>\n",
       "<thead><tr><th scope=col>Establishment.Type</th><th scope=col>Square.Footage</th></tr></thead>\n",
       "<tbody>\n",
       "\t<tr><td>A        </td><td> 4878.068</td></tr>\n",
       "\t<tr><td>JAB      </td><td> 1470.788</td></tr>\n",
       "\t<tr><td>JABC     </td><td>31144.093</td></tr>\n",
       "\t<tr><td>JABCD    </td><td>20800.000</td></tr>\n",
       "\t<tr><td>JABCDH   </td><td> 5500.000</td></tr>\n",
       "\t<tr><td>JABCDK   </td><td> 6000.000</td></tr>\n",
       "\t<tr><td>JABCDP   </td><td>10000.000</td></tr>\n",
       "\t<tr><td>JABCG    </td><td> 7000.000</td></tr>\n",
       "\t<tr><td>JABCGH   </td><td>78000.000</td></tr>\n",
       "\t<tr><td>JABCGP   </td><td> 2400.000</td></tr>\n",
       "\t<tr><td>JABCH    </td><td> 3854.206</td></tr>\n",
       "\t<tr><td>JABCHK   </td><td>12666.667</td></tr>\n",
       "\t<tr><td>JABCHO   </td><td> 8500.000</td></tr>\n",
       "\t<tr><td>JABCK    </td><td> 9846.250</td></tr>\n",
       "\t<tr><td>JABCKO   </td><td> 5000.000</td></tr>\n",
       "\t<tr><td>JABCO    </td><td> 6650.000</td></tr>\n",
       "\t<tr><td>JABCOP   </td><td>15042.857</td></tr>\n",
       "\t<tr><td>JABCP    </td><td> 6125.000</td></tr>\n",
       "\t<tr><td>JABCR    </td><td> 1000.000</td></tr>\n",
       "\t<tr><td>JABCS    </td><td> 2500.000</td></tr>\n",
       "\t<tr><td>JABCW    </td><td> 3600.000</td></tr>\n",
       "\t<tr><td>JABDK    </td><td> 8000.000</td></tr>\n",
       "\t<tr><td>JABH     </td><td> 3538.279</td></tr>\n",
       "\t<tr><td>JABHK    </td><td>13420.833</td></tr>\n",
       "\t<tr><td>JABK     </td><td> 7509.091</td></tr>\n",
       "\t<tr><td>JAC      </td><td> 3155.273</td></tr>\n",
       "\t<tr><td>JACD     </td><td>16805.263</td></tr>\n",
       "\t<tr><td>JACDE    </td><td>    0.000</td></tr>\n",
       "\t<tr><td>JACDG    </td><td>34000.000</td></tr>\n",
       "\t<tr><td>JACDH    </td><td> 4941.000</td></tr>\n",
       "\t<tr><td>⋮</td><td>⋮</td></tr>\n",
       "\t<tr><td>JACV      </td><td> 1466.6667</td></tr>\n",
       "\t<tr><td>JACW      </td><td> 6500.0000</td></tr>\n",
       "\t<tr><td>JACX      </td><td>12345.0000</td></tr>\n",
       "\t<tr><td>JACZ      </td><td>  600.0000</td></tr>\n",
       "\t<tr><td>JAD       </td><td>10806.6667</td></tr>\n",
       "\t<tr><td>JADE      </td><td>16000.0000</td></tr>\n",
       "\t<tr><td>JADEH     </td><td> 2000.0000</td></tr>\n",
       "\t<tr><td>JADHK     </td><td> 3500.0000</td></tr>\n",
       "\t<tr><td>JADK      </td><td>25238.8889</td></tr>\n",
       "\t<tr><td>JADN      </td><td>10000.0000</td></tr>\n",
       "\t<tr><td>JADO      </td><td> 4000.0000</td></tr>\n",
       "\t<tr><td>JADX      </td><td>    0.0000</td></tr>\n",
       "\t<tr><td>JAE       </td><td> 8114.2857</td></tr>\n",
       "\t<tr><td>JAEH      </td><td> 6000.0000</td></tr>\n",
       "\t<tr><td>JAEHK     </td><td> 3000.0000</td></tr>\n",
       "\t<tr><td>JAHK      </td><td>  400.0000</td></tr>\n",
       "\t<tr><td>JAHW      </td><td> 2400.0000</td></tr>\n",
       "\t<tr><td>JAK       </td><td>  850.0000</td></tr>\n",
       "\t<tr><td>JAM       </td><td> 1500.0000</td></tr>\n",
       "\t<tr><td>JAN       </td><td>18000.0000</td></tr>\n",
       "\t<tr><td>JAS       </td><td> 7490.0000</td></tr>\n",
       "\t<tr><td>JAV       </td><td> 1766.6667</td></tr>\n",
       "\t<tr><td>JAW       </td><td> 4390.0000</td></tr>\n",
       "\t<tr><td>JAZ       </td><td> 1000.0000</td></tr>\n",
       "\t<tr><td>JCA       </td><td> 1000.0000</td></tr>\n",
       "\t<tr><td>JDA       </td><td> 2000.0000</td></tr>\n",
       "\t<tr><td>JDAC      </td><td> 4000.0000</td></tr>\n",
       "\t<tr><td>JKA       </td><td>  664.2857</td></tr>\n",
       "\t<tr><td>JKDA      </td><td> 3500.0000</td></tr>\n",
       "\t<tr><td>JKDAC     </td><td> 5000.0000</td></tr>\n",
       "</tbody>\n",
       "</table>\n"
      ],
      "text/latex": [
       "\\begin{tabular}{r|ll}\n",
       " Establishment.Type & Square.Footage\\\\\n",
       "\\hline\n",
       "\t A         &  4878.068\\\\\n",
       "\t JAB       &  1470.788\\\\\n",
       "\t JABC      & 31144.093\\\\\n",
       "\t JABCD     & 20800.000\\\\\n",
       "\t JABCDH    &  5500.000\\\\\n",
       "\t JABCDK    &  6000.000\\\\\n",
       "\t JABCDP    & 10000.000\\\\\n",
       "\t JABCG     &  7000.000\\\\\n",
       "\t JABCGH    & 78000.000\\\\\n",
       "\t JABCGP    &  2400.000\\\\\n",
       "\t JABCH     &  3854.206\\\\\n",
       "\t JABCHK    & 12666.667\\\\\n",
       "\t JABCHO    &  8500.000\\\\\n",
       "\t JABCK     &  9846.250\\\\\n",
       "\t JABCKO    &  5000.000\\\\\n",
       "\t JABCO     &  6650.000\\\\\n",
       "\t JABCOP    & 15042.857\\\\\n",
       "\t JABCP     &  6125.000\\\\\n",
       "\t JABCR     &  1000.000\\\\\n",
       "\t JABCS     &  2500.000\\\\\n",
       "\t JABCW     &  3600.000\\\\\n",
       "\t JABDK     &  8000.000\\\\\n",
       "\t JABH      &  3538.279\\\\\n",
       "\t JABHK     & 13420.833\\\\\n",
       "\t JABK      &  7509.091\\\\\n",
       "\t JAC       &  3155.273\\\\\n",
       "\t JACD      & 16805.263\\\\\n",
       "\t JACDE     &     0.000\\\\\n",
       "\t JACDG     & 34000.000\\\\\n",
       "\t JACDH     &  4941.000\\\\\n",
       "\t ⋮ & ⋮\\\\\n",
       "\t JACV       &  1466.6667\\\\\n",
       "\t JACW       &  6500.0000\\\\\n",
       "\t JACX       & 12345.0000\\\\\n",
       "\t JACZ       &   600.0000\\\\\n",
       "\t JAD        & 10806.6667\\\\\n",
       "\t JADE       & 16000.0000\\\\\n",
       "\t JADEH      &  2000.0000\\\\\n",
       "\t JADHK      &  3500.0000\\\\\n",
       "\t JADK       & 25238.8889\\\\\n",
       "\t JADN       & 10000.0000\\\\\n",
       "\t JADO       &  4000.0000\\\\\n",
       "\t JADX       &     0.0000\\\\\n",
       "\t JAE        &  8114.2857\\\\\n",
       "\t JAEH       &  6000.0000\\\\\n",
       "\t JAEHK      &  3000.0000\\\\\n",
       "\t JAHK       &   400.0000\\\\\n",
       "\t JAHW       &  2400.0000\\\\\n",
       "\t JAK        &   850.0000\\\\\n",
       "\t JAM        &  1500.0000\\\\\n",
       "\t JAN        & 18000.0000\\\\\n",
       "\t JAS        &  7490.0000\\\\\n",
       "\t JAV        &  1766.6667\\\\\n",
       "\t JAW        &  4390.0000\\\\\n",
       "\t JAZ        &  1000.0000\\\\\n",
       "\t JCA        &  1000.0000\\\\\n",
       "\t JDA        &  2000.0000\\\\\n",
       "\t JDAC       &  4000.0000\\\\\n",
       "\t JKA        &   664.2857\\\\\n",
       "\t JKDA       &  3500.0000\\\\\n",
       "\t JKDAC      &  5000.0000\\\\\n",
       "\\end{tabular}\n"
      ],
      "text/markdown": [
       "\n",
       "Establishment.Type | Square.Footage | \n",
       "|---|---|---|---|---|---|---|---|---|---|---|---|---|---|---|---|---|---|---|---|---|---|---|---|---|---|---|---|---|---|---|---|---|---|---|---|---|---|---|---|---|---|---|---|---|---|---|---|---|---|---|---|---|---|---|---|---|---|---|---|---|\n",
       "| A         |  4878.068 | \n",
       "| JAB       |  1470.788 | \n",
       "| JABC      | 31144.093 | \n",
       "| JABCD     | 20800.000 | \n",
       "| JABCDH    |  5500.000 | \n",
       "| JABCDK    |  6000.000 | \n",
       "| JABCDP    | 10000.000 | \n",
       "| JABCG     |  7000.000 | \n",
       "| JABCGH    | 78000.000 | \n",
       "| JABCGP    |  2400.000 | \n",
       "| JABCH     |  3854.206 | \n",
       "| JABCHK    | 12666.667 | \n",
       "| JABCHO    |  8500.000 | \n",
       "| JABCK     |  9846.250 | \n",
       "| JABCKO    |  5000.000 | \n",
       "| JABCO     |  6650.000 | \n",
       "| JABCOP    | 15042.857 | \n",
       "| JABCP     |  6125.000 | \n",
       "| JABCR     |  1000.000 | \n",
       "| JABCS     |  2500.000 | \n",
       "| JABCW     |  3600.000 | \n",
       "| JABDK     |  8000.000 | \n",
       "| JABH      |  3538.279 | \n",
       "| JABHK     | 13420.833 | \n",
       "| JABK      |  7509.091 | \n",
       "| JAC       |  3155.273 | \n",
       "| JACD      | 16805.263 | \n",
       "| JACDE     |     0.000 | \n",
       "| JACDG     | 34000.000 | \n",
       "| JACDH     |  4941.000 | \n",
       "| ⋮ | ⋮ | \n",
       "| JACV       |  1466.6667 | \n",
       "| JACW       |  6500.0000 | \n",
       "| JACX       | 12345.0000 | \n",
       "| JACZ       |   600.0000 | \n",
       "| JAD        | 10806.6667 | \n",
       "| JADE       | 16000.0000 | \n",
       "| JADEH      |  2000.0000 | \n",
       "| JADHK      |  3500.0000 | \n",
       "| JADK       | 25238.8889 | \n",
       "| JADN       | 10000.0000 | \n",
       "| JADO       |  4000.0000 | \n",
       "| JADX       |     0.0000 | \n",
       "| JAE        |  8114.2857 | \n",
       "| JAEH       |  6000.0000 | \n",
       "| JAEHK      |  3000.0000 | \n",
       "| JAHK       |   400.0000 | \n",
       "| JAHW       |  2400.0000 | \n",
       "| JAK        |   850.0000 | \n",
       "| JAM        |  1500.0000 | \n",
       "| JAN        | 18000.0000 | \n",
       "| JAS        |  7490.0000 | \n",
       "| JAV        |  1766.6667 | \n",
       "| JAW        |  4390.0000 | \n",
       "| JAZ        |  1000.0000 | \n",
       "| JCA        |  1000.0000 | \n",
       "| JDA        |  2000.0000 | \n",
       "| JDAC       |  4000.0000 | \n",
       "| JKA        |   664.2857 | \n",
       "| JKDA       |  3500.0000 | \n",
       "| JKDAC      |  5000.0000 | \n",
       "\n",
       "\n"
      ],
      "text/plain": [
       "   Establishment.Type Square.Footage\n",
       "1  A                   4878.068     \n",
       "2  JAB                 1470.788     \n",
       "3  JABC               31144.093     \n",
       "4  JABCD              20800.000     \n",
       "5  JABCDH              5500.000     \n",
       "6  JABCDK              6000.000     \n",
       "7  JABCDP             10000.000     \n",
       "8  JABCG               7000.000     \n",
       "9  JABCGH             78000.000     \n",
       "10 JABCGP              2400.000     \n",
       "11 JABCH               3854.206     \n",
       "12 JABCHK             12666.667     \n",
       "13 JABCHO              8500.000     \n",
       "14 JABCK               9846.250     \n",
       "15 JABCKO              5000.000     \n",
       "16 JABCO               6650.000     \n",
       "17 JABCOP             15042.857     \n",
       "18 JABCP               6125.000     \n",
       "19 JABCR               1000.000     \n",
       "20 JABCS               2500.000     \n",
       "21 JABCW               3600.000     \n",
       "22 JABDK               8000.000     \n",
       "23 JABH                3538.279     \n",
       "24 JABHK              13420.833     \n",
       "25 JABK                7509.091     \n",
       "26 JAC                 3155.273     \n",
       "27 JACD               16805.263     \n",
       "28 JACDE                  0.000     \n",
       "29 JACDG              34000.000     \n",
       "30 JACDH               4941.000     \n",
       "⋮  ⋮                  ⋮             \n",
       "56 JACV                1466.6667    \n",
       "57 JACW                6500.0000    \n",
       "58 JACX               12345.0000    \n",
       "59 JACZ                 600.0000    \n",
       "60 JAD                10806.6667    \n",
       "61 JADE               16000.0000    \n",
       "62 JADEH               2000.0000    \n",
       "63 JADHK               3500.0000    \n",
       "64 JADK               25238.8889    \n",
       "65 JADN               10000.0000    \n",
       "66 JADO                4000.0000    \n",
       "67 JADX                   0.0000    \n",
       "68 JAE                 8114.2857    \n",
       "69 JAEH                6000.0000    \n",
       "70 JAEHK               3000.0000    \n",
       "71 JAHK                 400.0000    \n",
       "72 JAHW                2400.0000    \n",
       "73 JAK                  850.0000    \n",
       "74 JAM                 1500.0000    \n",
       "75 JAN                18000.0000    \n",
       "76 JAS                 7490.0000    \n",
       "77 JAV                 1766.6667    \n",
       "78 JAW                 4390.0000    \n",
       "79 JAZ                 1000.0000    \n",
       "80 JCA                 1000.0000    \n",
       "81 JDA                 2000.0000    \n",
       "82 JDAC                4000.0000    \n",
       "83 JKA                  664.2857    \n",
       "84 JKDA                3500.0000    \n",
       "85 JKDAC               5000.0000    "
      ]
     },
     "metadata": {},
     "output_type": "display_data"
    }
   ],
   "source": [
    "dfMelt <- melt(df, id =c(\"License.Number\", \"Establishment.Type\", \"Address\", \"Street.Number\", \n",
    "                         \"State\", \"ZipCode\", \"County\", \"Longitude\", \"Latitude\"), measure.vars = c(\"Square.Footage\" ))\n",
    "\n",
    "EstabType <- dcast(dfMelt, Establishment.Type ~ variable, mean)\n",
    "EstabType"
   ]
  },
  {
   "cell_type": "code",
   "execution_count": null,
   "metadata": {},
   "outputs": [],
   "source": []
  },
  {
   "cell_type": "code",
   "execution_count": null,
   "metadata": {},
   "outputs": [],
   "source": []
  },
  {
   "cell_type": "code",
   "execution_count": null,
   "metadata": {},
   "outputs": [],
   "source": []
  },
  {
   "cell_type": "code",
   "execution_count": null,
   "metadata": {},
   "outputs": [],
   "source": []
  },
  {
   "cell_type": "code",
   "execution_count": null,
   "metadata": {},
   "outputs": [],
   "source": []
  },
  {
   "cell_type": "code",
   "execution_count": null,
   "metadata": {},
   "outputs": [],
   "source": []
  },
  {
   "cell_type": "code",
   "execution_count": null,
   "metadata": {},
   "outputs": [],
   "source": []
  },
  {
   "cell_type": "code",
   "execution_count": null,
   "metadata": {},
   "outputs": [],
   "source": []
  },
  {
   "cell_type": "code",
   "execution_count": null,
   "metadata": {},
   "outputs": [],
   "source": []
  },
  {
   "cell_type": "code",
   "execution_count": null,
   "metadata": {},
   "outputs": [],
   "source": []
  },
  {
   "cell_type": "code",
   "execution_count": null,
   "metadata": {},
   "outputs": [],
   "source": []
  },
  {
   "cell_type": "code",
   "execution_count": null,
   "metadata": {},
   "outputs": [],
   "source": []
  },
  {
   "cell_type": "code",
   "execution_count": null,
   "metadata": {},
   "outputs": [],
   "source": []
  },
  {
   "cell_type": "code",
   "execution_count": null,
   "metadata": {},
   "outputs": [],
   "source": []
  },
  {
   "cell_type": "code",
   "execution_count": null,
   "metadata": {},
   "outputs": [],
   "source": []
  },
  {
   "cell_type": "code",
   "execution_count": null,
   "metadata": {},
   "outputs": [],
   "source": []
  },
  {
   "cell_type": "code",
   "execution_count": null,
   "metadata": {},
   "outputs": [],
   "source": []
  },
  {
   "cell_type": "code",
   "execution_count": null,
   "metadata": {},
   "outputs": [],
   "source": []
  },
  {
   "cell_type": "code",
   "execution_count": null,
   "metadata": {},
   "outputs": [],
   "source": []
  },
  {
   "cell_type": "code",
   "execution_count": null,
   "metadata": {},
   "outputs": [],
   "source": []
  },
  {
   "cell_type": "code",
   "execution_count": null,
   "metadata": {},
   "outputs": [],
   "source": []
  },
  {
   "cell_type": "code",
   "execution_count": null,
   "metadata": {},
   "outputs": [],
   "source": []
  },
  {
   "cell_type": "code",
   "execution_count": null,
   "metadata": {},
   "outputs": [],
   "source": []
  },
  {
   "cell_type": "code",
   "execution_count": null,
   "metadata": {},
   "outputs": [],
   "source": []
  },
  {
   "cell_type": "code",
   "execution_count": null,
   "metadata": {},
   "outputs": [],
   "source": []
  },
  {
   "cell_type": "code",
   "execution_count": null,
   "metadata": {},
   "outputs": [],
   "source": []
  },
  {
   "cell_type": "code",
   "execution_count": null,
   "metadata": {},
   "outputs": [],
   "source": []
  },
  {
   "cell_type": "code",
   "execution_count": null,
   "metadata": {},
   "outputs": [],
   "source": []
  },
  {
   "cell_type": "code",
   "execution_count": null,
   "metadata": {},
   "outputs": [],
   "source": []
  },
  {
   "cell_type": "code",
   "execution_count": null,
   "metadata": {},
   "outputs": [],
   "source": []
  },
  {
   "cell_type": "code",
   "execution_count": null,
   "metadata": {},
   "outputs": [],
   "source": []
  },
  {
   "cell_type": "code",
   "execution_count": null,
   "metadata": {},
   "outputs": [],
   "source": []
  },
  {
   "cell_type": "code",
   "execution_count": null,
   "metadata": {},
   "outputs": [],
   "source": []
  },
  {
   "cell_type": "code",
   "execution_count": null,
   "metadata": {},
   "outputs": [],
   "source": []
  }
 ],
 "metadata": {
  "kernelspec": {
   "display_name": "R",
   "language": "R",
   "name": "ir"
  },
  "language_info": {
   "codemirror_mode": "r",
   "file_extension": ".r",
   "mimetype": "text/x-r-source",
   "name": "R",
   "pygments_lexer": "r",
   "version": "3.4.1"
  }
 },
 "nbformat": 4,
 "nbformat_minor": 2
}
